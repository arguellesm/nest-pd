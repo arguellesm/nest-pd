{
 "cells": [
  {
   "cell_type": "markdown",
   "id": "52ddb278",
   "metadata": {},
   "source": [
    "# Modelos de Terman y Rubin para neuronas del STN y GPe\n",
    "\n",
    "Implementados por NESTML."
   ]
  },
  {
   "cell_type": "code",
   "execution_count": 1,
   "id": "c92ca869",
   "metadata": {},
   "outputs": [
    {
     "name": "stdout",
     "output_type": "stream",
     "text": [
      "\n",
      "              -- N E S T --\n",
      "  Copyright (C) 2004 The NEST Initiative\n",
      "\n",
      " Version: UNKNOWN\n",
      " Built: Apr 14 2022 16:45:38\n",
      "\n",
      " This program is provided AS IS and comes with\n",
      " NO WARRANTY. See the file LICENSE for details.\n",
      "\n",
      " Problems or suggestions?\n",
      "   Visit https://www.nest-simulator.org\n",
      "\n",
      " Type 'nest.help()' to find out more about NEST.\n",
      "\n"
     ]
    }
   ],
   "source": [
    "# nest \n",
    "import nest\n",
    "import nest.voltage_trace\n",
    "from pynestml.frontend.pynestml_frontend import generate_nest_target\n",
    "\n",
    "\n",
    "# gráficas\n",
    "import matplotlib.pyplot as plt\n",
    "\n",
    "# cálculo\n",
    "from scipy import stats as st\n",
    "from scipy import signal\n",
    "from random import randint\n",
    "import numpy as np\n",
    "\n",
    "NEST_SIMULATOR_INSTALL_LOCATION = nest.ll_api.sli_func('statusdict/prefix ::')\n",
    "\n",
    "nest.set_verbosity('M_WARNING')\n",
    "nest.ResetKernel()"
   ]
  },
  {
   "cell_type": "markdown",
   "id": "0547d29c",
   "metadata": {},
   "source": [
    "## Crear y cargar modelo STN"
   ]
  },
  {
   "cell_type": "code",
   "execution_count": 2,
   "id": "2ddf044d",
   "metadata": {
    "scrolled": true
   },
   "outputs": [
    {
     "name": "stdout",
     "output_type": "stream",
     "text": [
      "[1,GLOBAL, ERROR]: Input path (\"/opt/data/model/DEF/terub/models/terub_stn.nestml\") not found!\n"
     ]
    },
    {
     "ename": "InvalidPathException",
     "evalue": "Input path (\"/opt/data/model/DEF/terub/models/terub_stn.nestml\") not found!",
     "output_type": "error",
     "traceback": [
      "\u001b[0;31m---------------------------------------------------------------------------\u001b[0m",
      "\u001b[0;31mInvalidPathException\u001b[0m                      Traceback (most recent call last)",
      "Input \u001b[0;32mIn [2]\u001b[0m, in \u001b[0;36m<cell line: 1>\u001b[0;34m()\u001b[0m\n\u001b[0;32m----> 1\u001b[0m \u001b[43mgenerate_nest_target\u001b[49m\u001b[43m(\u001b[49m\u001b[43minput_path\u001b[49m\u001b[38;5;241;43m=\u001b[39;49m\u001b[38;5;124;43m'\u001b[39;49m\u001b[38;5;124;43mmodels/terub_stn.nestml\u001b[39;49m\u001b[38;5;124;43m'\u001b[39;49m\u001b[43m,\u001b[49m\n\u001b[1;32m      2\u001b[0m \u001b[43m                     \u001b[49m\u001b[43mtarget_path\u001b[49m\u001b[38;5;241;43m=\u001b[39;49m\u001b[38;5;124;43m'\u001b[39;49m\u001b[38;5;124;43m/tmp/terub_stn\u001b[39;49m\u001b[38;5;124;43m'\u001b[39;49m\u001b[43m,\u001b[49m\n\u001b[1;32m      3\u001b[0m \u001b[43m                     \u001b[49m\u001b[43mlogging_level\u001b[49m\u001b[38;5;241;43m=\u001b[39;49m\u001b[38;5;124;43m'\u001b[39;49m\u001b[38;5;124;43mERROR\u001b[39;49m\u001b[38;5;124;43m'\u001b[39;49m\u001b[43m,\u001b[49m\n\u001b[1;32m      4\u001b[0m \u001b[43m                     \u001b[49m\u001b[43mmodule_name\u001b[49m\u001b[38;5;241;43m=\u001b[39;49m\u001b[38;5;124;43m'\u001b[39;49m\u001b[38;5;124;43mterub_stn_module\u001b[39;49m\u001b[38;5;124;43m'\u001b[39;49m\u001b[43m,\u001b[49m\n\u001b[1;32m      5\u001b[0m \u001b[43m                     \u001b[49m\u001b[43mcodegen_opts\u001b[49m\u001b[38;5;241;43m=\u001b[39;49m\u001b[43m{\u001b[49m\u001b[38;5;124;43m'\u001b[39;49m\u001b[38;5;124;43mnest_path\u001b[39;49m\u001b[38;5;124;43m'\u001b[39;49m\u001b[43m:\u001b[49m\u001b[43m \u001b[49m\u001b[43mNEST_SIMULATOR_INSTALL_LOCATION\u001b[49m\u001b[43m}\u001b[49m\u001b[43m)\u001b[49m\n",
      "File \u001b[0;32m/usr/local/lib/python3.8/dist-packages/pynestml/frontend/pynestml_frontend.py:189\u001b[0m, in \u001b[0;36mgenerate_nest_target\u001b[0;34m(input_path, target_path, install_path, logging_level, module_name, store_log, suffix, dev, codegen_opts)\u001b[0m\n\u001b[1;32m    162\u001b[0m \u001b[38;5;28;01mdef\u001b[39;00m \u001b[38;5;21mgenerate_nest_target\u001b[39m(input_path: Union[\u001b[38;5;28mstr\u001b[39m, Sequence[\u001b[38;5;28mstr\u001b[39m]], target_path: Optional[\u001b[38;5;28mstr\u001b[39m] \u001b[38;5;241m=\u001b[39m \u001b[38;5;28;01mNone\u001b[39;00m,\n\u001b[1;32m    163\u001b[0m                          install_path: Optional[\u001b[38;5;28mstr\u001b[39m] \u001b[38;5;241m=\u001b[39m \u001b[38;5;28;01mNone\u001b[39;00m, logging_level\u001b[38;5;241m=\u001b[39m\u001b[38;5;124m\"\u001b[39m\u001b[38;5;124mERROR\u001b[39m\u001b[38;5;124m\"\u001b[39m,\n\u001b[1;32m    164\u001b[0m                          module_name\u001b[38;5;241m=\u001b[39m\u001b[38;5;28;01mNone\u001b[39;00m, store_log: \u001b[38;5;28mbool\u001b[39m\u001b[38;5;241m=\u001b[39m\u001b[38;5;28;01mFalse\u001b[39;00m, suffix: \u001b[38;5;28mstr\u001b[39m\u001b[38;5;241m=\u001b[39m\u001b[38;5;124m\"\u001b[39m\u001b[38;5;124m\"\u001b[39m,\n\u001b[1;32m    165\u001b[0m                          dev: \u001b[38;5;28mbool\u001b[39m\u001b[38;5;241m=\u001b[39m\u001b[38;5;28;01mFalse\u001b[39;00m, codegen_opts: Optional[Mapping[\u001b[38;5;28mstr\u001b[39m, Any]]\u001b[38;5;241m=\u001b[39m\u001b[38;5;28;01mNone\u001b[39;00m):\n\u001b[1;32m    166\u001b[0m     \u001b[38;5;124mr\u001b[39m\u001b[38;5;124;03m\"\"\"Generate and build code for NEST Simulator.\u001b[39;00m\n\u001b[1;32m    167\u001b[0m \n\u001b[1;32m    168\u001b[0m \u001b[38;5;124;03m    Parameters\u001b[39;00m\n\u001b[0;32m   (...)\u001b[0m\n\u001b[1;32m    187\u001b[0m \u001b[38;5;124;03m        A dictionary containing additional options for the target code generator.\u001b[39;00m\n\u001b[1;32m    188\u001b[0m \u001b[38;5;124;03m    \"\"\"\u001b[39;00m\n\u001b[0;32m--> 189\u001b[0m     \u001b[43mgenerate_target\u001b[49m\u001b[43m(\u001b[49m\u001b[43minput_path\u001b[49m\u001b[43m,\u001b[49m\u001b[43m \u001b[49m\u001b[43mtarget_platform\u001b[49m\u001b[38;5;241;43m=\u001b[39;49m\u001b[38;5;124;43m\"\u001b[39;49m\u001b[38;5;124;43mNEST\u001b[39;49m\u001b[38;5;124;43m\"\u001b[39;49m\u001b[43m,\u001b[49m\u001b[43m \u001b[49m\u001b[43mtarget_path\u001b[49m\u001b[38;5;241;43m=\u001b[39;49m\u001b[43mtarget_path\u001b[49m\u001b[43m,\u001b[49m\u001b[43m \u001b[49m\u001b[43mlogging_level\u001b[49m\u001b[38;5;241;43m=\u001b[39;49m\u001b[43mlogging_level\u001b[49m\u001b[43m,\u001b[49m\n\u001b[1;32m    190\u001b[0m \u001b[43m                    \u001b[49m\u001b[43mmodule_name\u001b[49m\u001b[38;5;241;43m=\u001b[39;49m\u001b[43mmodule_name\u001b[49m\u001b[43m,\u001b[49m\u001b[43m \u001b[49m\u001b[43mstore_log\u001b[49m\u001b[38;5;241;43m=\u001b[39;49m\u001b[43mstore_log\u001b[49m\u001b[43m,\u001b[49m\u001b[43m \u001b[49m\u001b[43msuffix\u001b[49m\u001b[38;5;241;43m=\u001b[39;49m\u001b[43msuffix\u001b[49m\u001b[43m,\u001b[49m\u001b[43m \u001b[49m\u001b[43minstall_path\u001b[49m\u001b[38;5;241;43m=\u001b[39;49m\u001b[43minstall_path\u001b[49m\u001b[43m,\u001b[49m\n\u001b[1;32m    191\u001b[0m \u001b[43m                    \u001b[49m\u001b[43mdev\u001b[49m\u001b[38;5;241;43m=\u001b[39;49m\u001b[43mdev\u001b[49m\u001b[43m,\u001b[49m\u001b[43m \u001b[49m\u001b[43mcodegen_opts\u001b[49m\u001b[38;5;241;43m=\u001b[39;49m\u001b[43mcodegen_opts\u001b[49m\u001b[43m)\u001b[49m\n",
      "File \u001b[0;32m/usr/local/lib/python3.8/dist-packages/pynestml/frontend/pynestml_frontend.py:153\u001b[0m, in \u001b[0;36mgenerate_target\u001b[0;34m(input_path, target_platform, target_path, install_path, logging_level, module_name, store_log, suffix, dev, codegen_opts)\u001b[0m\n\u001b[1;32m    150\u001b[0m \u001b[38;5;28;01mif\u001b[39;00m dev:\n\u001b[1;32m    151\u001b[0m     args\u001b[38;5;241m.\u001b[39mappend(qualifier_dev_arg)\n\u001b[0;32m--> 153\u001b[0m \u001b[43mFrontendConfiguration\u001b[49m\u001b[38;5;241;43m.\u001b[39;49m\u001b[43mparse_config\u001b[49m\u001b[43m(\u001b[49m\u001b[43margs\u001b[49m\u001b[43m)\u001b[49m\n\u001b[1;32m    155\u001b[0m \u001b[38;5;28;01mif\u001b[39;00m codegen_opts:\n\u001b[1;32m    156\u001b[0m     FrontendConfiguration\u001b[38;5;241m.\u001b[39mset_codegen_opts(codegen_opts)\n",
      "File \u001b[0;32m/usr/local/lib/python3.8/dist-packages/pynestml/frontend/frontend_configuration.py:114\u001b[0m, in \u001b[0;36mFrontendConfiguration.parse_config\u001b[0;34m(cls, args)\u001b[0m\n\u001b[1;32m    111\u001b[0m \u001b[38;5;28mcls\u001b[39m\u001b[38;5;241m.\u001b[39mlogging_level \u001b[38;5;241m=\u001b[39m Logger\u001b[38;5;241m.\u001b[39mlevel_to_string(Logger\u001b[38;5;241m.\u001b[39mstring_to_level(parsed_args\u001b[38;5;241m.\u001b[39mlogging_level))\n\u001b[1;32m    112\u001b[0m Logger\u001b[38;5;241m.\u001b[39minit_logger(Logger\u001b[38;5;241m.\u001b[39mstring_to_level(parsed_args\u001b[38;5;241m.\u001b[39mlogging_level))\n\u001b[0;32m--> 114\u001b[0m \u001b[38;5;28;43mcls\u001b[39;49m\u001b[38;5;241;43m.\u001b[39;49m\u001b[43mhandle_input_path\u001b[49m\u001b[43m(\u001b[49m\u001b[43mparsed_args\u001b[49m\u001b[38;5;241;43m.\u001b[39;49m\u001b[43minput_path\u001b[49m\u001b[43m)\u001b[49m\n\u001b[1;32m    115\u001b[0m \u001b[38;5;28mcls\u001b[39m\u001b[38;5;241m.\u001b[39mhandle_target_platform(parsed_args\u001b[38;5;241m.\u001b[39mtarget_platform)\n\u001b[1;32m    116\u001b[0m \u001b[38;5;28mcls\u001b[39m\u001b[38;5;241m.\u001b[39mhandle_target_path(parsed_args\u001b[38;5;241m.\u001b[39mtarget_path)\n",
      "File \u001b[0;32m/usr/local/lib/python3.8/dist-packages/pynestml/frontend/frontend_configuration.py:318\u001b[0m, in \u001b[0;36mFrontendConfiguration.handle_input_path\u001b[0;34m(cls, path)\u001b[0m\n\u001b[1;32m    316\u001b[0m         code, message \u001b[38;5;241m=\u001b[39m Messages\u001b[38;5;241m.\u001b[39mget_input_path_not_found(path\u001b[38;5;241m=\u001b[39m_path)\n\u001b[1;32m    317\u001b[0m         Logger\u001b[38;5;241m.\u001b[39mlog_message(code\u001b[38;5;241m=\u001b[39mcode, message\u001b[38;5;241m=\u001b[39mmessage, log_level\u001b[38;5;241m=\u001b[39mLoggingLevel\u001b[38;5;241m.\u001b[39mERROR)\n\u001b[0;32m--> 318\u001b[0m         \u001b[38;5;28;01mraise\u001b[39;00m InvalidPathException(message)\n\u001b[1;32m    320\u001b[0m \u001b[38;5;28;01mif\u001b[39;00m \u001b[38;5;129;01mnot\u001b[39;00m \u001b[38;5;28mcls\u001b[39m\u001b[38;5;241m.\u001b[39mpaths_to_compilation_units:\n\u001b[1;32m    321\u001b[0m     code, message \u001b[38;5;241m=\u001b[39m Messages\u001b[38;5;241m.\u001b[39mget_no_files_in_input_path(\u001b[38;5;124m\"\u001b[39m\u001b[38;5;124m \u001b[39m\u001b[38;5;124m\"\u001b[39m\u001b[38;5;241m.\u001b[39mjoin(path))\n",
      "\u001b[0;31mInvalidPathException\u001b[0m: Input path (\"/opt/data/model/DEF/terub/models/terub_stn.nestml\") not found!"
     ]
    }
   ],
   "source": [
    "generate_nest_target(input_path='models/terub_stn.nestml',\n",
    "                     target_path='/tmp/terub_stn',\n",
    "                     logging_level='ERROR',\n",
    "                     module_name='terub_stn_module',\n",
    "                     codegen_opts={'nest_path': NEST_SIMULATOR_INSTALL_LOCATION})"
   ]
  },
  {
   "cell_type": "code",
   "execution_count": null,
   "id": "74387a58",
   "metadata": {},
   "outputs": [],
   "source": [
    "nest.Install('terub_stn_module')"
   ]
  },
  {
   "cell_type": "markdown",
   "id": "18a47056",
   "metadata": {},
   "source": [
    "## Crear y cargar modelo GPe"
   ]
  },
  {
   "cell_type": "code",
   "execution_count": null,
   "id": "3dfe7485",
   "metadata": {},
   "outputs": [],
   "source": [
    "generate_nest_target(input_path='models/terub_gpe.nestml',\n",
    "                    target_path='/tmp/terub_gpe',\n",
    "                     logging_level='ERROR',\n",
    "                     module_name='terub_gpe_module',\n",
    "                     codegen_opts={'nest_path': NEST_SIMULATOR_INSTALL_LOCATION})"
   ]
  },
  {
   "cell_type": "code",
   "execution_count": null,
   "id": "fe1978f7",
   "metadata": {},
   "outputs": [],
   "source": [
    "nest.Install('terub_gpe_module')"
   ]
  },
  {
   "cell_type": "markdown",
   "id": "6feda1f9",
   "metadata": {},
   "source": [
    "## Pruebas sobre las neuronas"
   ]
  },
  {
   "cell_type": "markdown",
   "id": "576353ed",
   "metadata": {},
   "source": [
    "### STN"
   ]
  },
  {
   "cell_type": "code",
   "execution_count": null,
   "id": "ee924473",
   "metadata": {},
   "outputs": [],
   "source": [
    "n = nest.Create('terub_gpe')\n",
    "\n",
    "spikegenerator = nest.Create('spike_generator')\n",
    "voltmeter = nest.Create('voltmeter')\n",
    "spikegenerator.set(spike_times=[10.0])\n",
    "\n",
    "nest.Connect(spikegenerator, n, syn_spec={'weight': 0})\n",
    "nest.Connect(voltmeter, n)\n",
    "\n",
    "nest.Simulate(100.0)\n",
    "\n",
    "nest.voltage_trace.from_device(voltmeter)\n",
    "plt.show()"
   ]
  },
  {
   "cell_type": "markdown",
   "id": "1fd42665",
   "metadata": {},
   "source": [
    "### GPe"
   ]
  },
  {
   "cell_type": "code",
   "execution_count": null,
   "id": "67525bf5",
   "metadata": {},
   "outputs": [],
   "source": [
    "n = nest.Create(\"terub_stn\")\n",
    "\n",
    "spikegenerator = nest.Create('spike_generator')\n",
    "voltmeter = nest.Create('voltmeter')\n",
    "spikegenerator.set(spike_times=[10.0])\n",
    "\n",
    "nest.Connect(spikegenerator, n, syn_spec={'weight': 0})\n",
    "nest.Connect(voltmeter, n)\n",
    "\n",
    "nest.Simulate(100.0)\n",
    "\n",
    "nest.voltage_trace.from_device(voltmeter)\n",
    "plt.show()"
   ]
  }
 ],
 "metadata": {
  "kernelspec": {
   "display_name": "Python 3 (ipykernel)",
   "language": "python",
   "name": "python3"
  },
  "language_info": {
   "codemirror_mode": {
    "name": "ipython",
    "version": 3
   },
   "file_extension": ".py",
   "mimetype": "text/x-python",
   "name": "python",
   "nbconvert_exporter": "python",
   "pygments_lexer": "ipython3",
   "version": "3.8.10"
  }
 },
 "nbformat": 4,
 "nbformat_minor": 5
}
