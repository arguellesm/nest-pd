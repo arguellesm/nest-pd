{
 "cells": [
  {
   "cell_type": "markdown",
   "id": "52ddb278",
   "metadata": {},
   "source": [
    "# Modelos de Terman y Rubin para neuronas del STN y GPe\n",
    "\n",
    "Implementados por NESTML."
   ]
  },
  {
   "cell_type": "code",
   "execution_count": 1,
   "id": "c92ca869",
   "metadata": {},
   "outputs": [
    {
     "name": "stdout",
     "output_type": "stream",
     "text": [
      "\n",
      "              -- N E S T --\n",
      "  Copyright (C) 2004 The NEST Initiative\n",
      "\n",
      " Version: UNKNOWN\n",
      " Built: Apr 14 2022 16:45:38\n",
      "\n",
      " This program is provided AS IS and comes with\n",
      " NO WARRANTY. See the file LICENSE for details.\n",
      "\n",
      " Problems or suggestions?\n",
      "   Visit https://www.nest-simulator.org\n",
      "\n",
      " Type 'nest.help()' to find out more about NEST.\n",
      "\n"
     ]
    }
   ],
   "source": [
    "# nest \n",
    "import nest\n",
    "import nest.voltage_trace\n",
    "from pynestml.frontend.pynestml_frontend import generate_nest_target\n",
    "\n",
    "\n",
    "# gráficas\n",
    "import matplotlib.pyplot as plt\n",
    "\n",
    "# cálculo\n",
    "from scipy import stats as st\n",
    "from scipy import signal\n",
    "from random import randint\n",
    "import numpy as np\n",
    "\n",
    "NEST_SIMULATOR_INSTALL_LOCATION = nest.ll_api.sli_func('statusdict/prefix ::')\n",
    "\n",
    "nest.set_verbosity('M_WARNING')\n",
    "nest.ResetKernel()"
   ]
  },
  {
   "cell_type": "markdown",
   "id": "0547d29c",
   "metadata": {},
   "source": [
    "## Crear y cargar modelo STN"
   ]
  },
  {
   "cell_type": "code",
   "execution_count": 2,
   "id": "2ddf044d",
   "metadata": {
    "scrolled": true
   },
   "outputs": [
    {
     "name": "stdout",
     "output_type": "stream",
     "text": [
      "Warning: PyGSL is not available. The stiffness test will be skipped.\n",
      "Warning: No module named 'pygsl'\n",
      "\n",
      "\n",
      "-- The CXX compiler identification is GNU 9.4.0\n",
      "-- Check for working CXX compiler: /usr/bin/c++\n",
      "-- Check for working CXX compiler: /usr/bin/c++ -- works\n",
      "-- Detecting CXX compiler ABI info\n",
      "-- Detecting CXX compiler ABI info - done\n",
      "-- Detecting CXX compile features\n",
      "-- Detecting CXX compile features - done\n",
      "\n",
      "-------------------------------------------------------\n",
      "terub_stn_module Configuration Summary\n",
      "-------------------------------------------------------\n",
      "\n",
      "C++ compiler         : /usr/bin/c++\n",
      "Build static libs    : OFF\n",
      "C++ compiler flags   : \n",
      "NEST compiler flags  :  -O2 -std=c++11 -Wall -fopenmp -pthread -fdiagnostics-color=auto\n",
      "NEST include dirs    :  -I/opt/nest/include/nest -I/usr/include -I/usr/include -I/usr/include -I/opt/music-install/include -I/usr/lib/x86_64-linux-gnu/openmpi/include/openmpi -I/usr/lib/x86_64-linux-gnu/openmpi/include -I/usr/include\n",
      "NEST libraries flags : -L/opt/nest/lib/nest -lnestutil -lnest -lsli -lnestkernel -fopenmp /usr/lib/x86_64-linux-gnu/libltdl.so /usr/lib/x86_64-linux-gnu/libreadline.so /usr/lib/x86_64-linux-gnu/libncurses.so /usr/lib/x86_64-linux-gnu/libgsl.so /usr/lib/x86_64-linux-gnu/libgslcblas.so  /opt/music-install/lib/libmusic.so /usr/lib/x86_64-linux-gnu/openmpi/lib/libmpi_cxx.so /usr/lib/x86_64-linux-gnu/openmpi/lib/libmpi.so\n",
      "\n",
      "-------------------------------------------------------\n",
      "\n",
      "You can now build and install 'terub_stn_module' using\n",
      "  make\n",
      "  make install\n",
      "\n",
      "The library file libterub_stn_module.so will be installed to\n",
      "  /opt/nest/lib/nest\n",
      "The module can be loaded into NEST using\n",
      "  (terub_stn_module) Install       (in SLI)\n",
      "  nest.Install(terub_stn_module)   (in PyNEST)\n",
      "\n",
      "CMake Warning (dev) in CMakeLists.txt:\n",
      "  No cmake_minimum_required command is present.  A line of code such as\n",
      "\n",
      "    cmake_minimum_required(VERSION 3.16)\n",
      "\n",
      "  should be added at the top of the file.  The version specified may be lower\n",
      "  if you wish to support older CMake versions for this project.  For more\n",
      "  information run \"cmake --help-policy CMP0000\".\n",
      "This warning is for project developers.  Use -Wno-dev to suppress it.\n",
      "\n",
      "-- Configuring done\n",
      "-- Generating done\n",
      "-- Build files have been written to: /tmp/terub_stn\n",
      "Scanning dependencies of target terub_stn_module_lib\n",
      "[ 16%] Building CXX object CMakeFiles/terub_stn_module_lib.dir/terub_stn_module.o\n",
      "[ 33%] Building CXX object CMakeFiles/terub_stn_module_lib.dir/terub_stn.o\n",
      "/tmp/terub_stn/terub_stn.cpp: In constructor ‘terub_stn::terub_stn()’:\n",
      "/tmp/terub_stn/terub_stn.cpp:109:16: warning: unused variable ‘__resolution’ [-Wunused-variable]\n",
      "  109 |   const double __resolution = nest::Time::get_resolution().get_ms();  // do not remove, this is necessary for the resolution() function\n",
      "      |                ^~~~~~~~~~~~\n",
      "/tmp/terub_stn/terub_stn.cpp: In member function ‘virtual void terub_stn::update(const nest::Time&, long int, long int)’:\n",
      "/tmp/terub_stn/terub_stn.cpp:367:16: warning: unused variable ‘__resolution’ [-Wunused-variable]\n",
      "  367 |   const double __resolution = nest::Time::get_resolution().get_ms();  // do not remove, this is necessary for the resolution() function\n",
      "      |                ^~~~~~~~~~~~\n",
      "[ 50%] Linking CXX shared library libterub_stn_module.so\n",
      "[ 50%] Built target terub_stn_module_lib\n",
      "Scanning dependencies of target terub_stn_module_module\n",
      "[ 66%] Building CXX object CMakeFiles/terub_stn_module_module.dir/terub_stn_module.o\n",
      "[ 83%] Building CXX object CMakeFiles/terub_stn_module_module.dir/terub_stn.o\n",
      "/tmp/terub_stn/terub_stn.cpp: In constructor ‘terub_stn::terub_stn()’:\n",
      "/tmp/terub_stn/terub_stn.cpp:109:16: warning: unused variable ‘__resolution’ [-Wunused-variable]\n",
      "  109 |   const double __resolution = nest::Time::get_resolution().get_ms();  // do not remove, this is necessary for the resolution() function\n",
      "      |                ^~~~~~~~~~~~\n",
      "/tmp/terub_stn/terub_stn.cpp: In member function ‘virtual void terub_stn::update(const nest::Time&, long int, long int)’:\n",
      "/tmp/terub_stn/terub_stn.cpp:367:16: warning: unused variable ‘__resolution’ [-Wunused-variable]\n",
      "  367 |   const double __resolution = nest::Time::get_resolution().get_ms();  // do not remove, this is necessary for the resolution() function\n",
      "      |                ^~~~~~~~~~~~\n",
      "[100%] Linking CXX shared module terub_stn_module.so\n",
      "[100%] Built target terub_stn_module_module\n",
      "[ 50%] Built target terub_stn_module_lib\n",
      "[100%] Built target terub_stn_module_module\n",
      "Install the project...\n",
      "-- Install configuration: \"\"\n",
      "-- Installing: /opt/nest/lib/nest/terub_stn_module.so\n"
     ]
    }
   ],
   "source": [
    "generate_nest_target(input_path='models/terub_stn.nestml',\n",
    "                     target_path='/tmp/terub_stn',\n",
    "                     logging_level='ERROR',\n",
    "                     module_name='terub_stn_module',\n",
    "                     codegen_opts={'nest_path': NEST_SIMULATOR_INSTALL_LOCATION})"
   ]
  },
  {
   "cell_type": "code",
   "execution_count": 3,
   "id": "74387a58",
   "metadata": {},
   "outputs": [],
   "source": [
    "nest.Install('terub_stn_module')"
   ]
  },
  {
   "cell_type": "markdown",
   "id": "18a47056",
   "metadata": {},
   "source": [
    "## Crear y cargar modelo GPe"
   ]
  },
  {
   "cell_type": "code",
   "execution_count": 4,
   "id": "3dfe7485",
   "metadata": {},
   "outputs": [
    {
     "name": "stdout",
     "output_type": "stream",
     "text": [
      "-- The CXX compiler identification is GNU 9.4.0\n",
      "-- Check for working CXX compiler: /usr/bin/c++\n",
      "-- Check for working CXX compiler: /usr/bin/c++ -- works\n",
      "-- Detecting CXX compiler ABI info\n",
      "-- Detecting CXX compiler ABI info - done\n",
      "-- Detecting CXX compile features\n",
      "-- Detecting CXX compile features - done\n",
      "\n",
      "-------------------------------------------------------\n",
      "terub_gpe_module Configuration Summary\n",
      "-------------------------------------------------------\n",
      "\n",
      "C++ compiler         : /usr/bin/c++\n",
      "Build static libs    : OFF\n",
      "C++ compiler flags   : \n",
      "NEST compiler flags  :  -O2 -std=c++11 -Wall -fopenmp -pthread -fdiagnostics-color=auto\n",
      "NEST include dirs    :  -I/opt/nest/include/nest -I/usr/include -I/usr/include -I/usr/include -I/opt/music-install/include -I/usr/lib/x86_64-linux-gnu/openmpi/include/openmpi -I/usr/lib/x86_64-linux-gnu/openmpi/include -I/usr/include\n",
      "NEST libraries flags : -L/opt/nest/lib/nest -lnestutil -lnest -lsli -lnestkernel -fopenmp /usr/lib/x86_64-linux-gnu/libltdl.so /usr/lib/x86_64-linux-gnu/libreadline.so /usr/lib/x86_64-linux-gnu/libncurses.so /usr/lib/x86_64-linux-gnu/libgsl.so /usr/lib/x86_64-linux-gnu/libgslcblas.so  /opt/music-install/lib/libmusic.so /usr/lib/x86_64-linux-gnu/openmpi/lib/libmpi_cxx.so /usr/lib/x86_64-linux-gnu/openmpi/lib/libmpi.so\n",
      "\n",
      "-------------------------------------------------------\n",
      "\n",
      "You can now build and install 'terub_gpe_module' using\n",
      "  make\n",
      "  make install\n",
      "\n",
      "The library file libterub_gpe_module.so will be installed to\n",
      "  /opt/nest/lib/nest\n",
      "The module can be loaded into NEST using\n",
      "  (terub_gpe_module) Install       (in SLI)\n",
      "  nest.Install(terub_gpe_module)   (in PyNEST)\n",
      "\n",
      "CMake Warning (dev) in CMakeLists.txt:\n",
      "  No cmake_minimum_required command is present.  A line of code such as\n",
      "\n",
      "    cmake_minimum_required(VERSION 3.16)\n",
      "\n",
      "  should be added at the top of the file.  The version specified may be lower\n",
      "  if you wish to support older CMake versions for this project.  For more\n",
      "  information run \"cmake --help-policy CMP0000\".\n",
      "This warning is for project developers.  Use -Wno-dev to suppress it.\n",
      "\n",
      "-- Configuring done\n",
      "-- Generating done\n",
      "-- Build files have been written to: /tmp/terub_gpe\n",
      "Scanning dependencies of target terub_gpe_module_lib\n",
      "[ 16%] Building CXX object CMakeFiles/terub_gpe_module_lib.dir/terub_gpe_module.o\n",
      "[ 33%] Building CXX object CMakeFiles/terub_gpe_module_lib.dir/terub_gpe.o\n",
      "/tmp/terub_gpe/terub_gpe.cpp: In constructor ‘terub_gpe::terub_gpe()’:\n",
      "/tmp/terub_gpe/terub_gpe.cpp:109:16: warning: unused variable ‘__resolution’ [-Wunused-variable]\n",
      "  109 |   const double __resolution = nest::Time::get_resolution().get_ms();  // do not remove, this is necessary for the resolution() function\n",
      "      |                ^~~~~~~~~~~~\n",
      "/tmp/terub_gpe/terub_gpe.cpp: In member function ‘virtual void terub_gpe::update(const nest::Time&, long int, long int)’:\n",
      "/tmp/terub_gpe/terub_gpe.cpp:367:16: warning: unused variable ‘__resolution’ [-Wunused-variable]\n",
      "  367 |   const double __resolution = nest::Time::get_resolution().get_ms();  // do not remove, this is necessary for the resolution() function\n",
      "      |                ^~~~~~~~~~~~\n",
      "[ 50%] Linking CXX shared library libterub_gpe_module.so\n",
      "[ 50%] Built target terub_gpe_module_lib\n",
      "Scanning dependencies of target terub_gpe_module_module\n",
      "[ 66%] Building CXX object CMakeFiles/terub_gpe_module_module.dir/terub_gpe_module.o\n",
      "[ 83%] Building CXX object CMakeFiles/terub_gpe_module_module.dir/terub_gpe.o\n",
      "/tmp/terub_gpe/terub_gpe.cpp: In constructor ‘terub_gpe::terub_gpe()’:\n",
      "/tmp/terub_gpe/terub_gpe.cpp:109:16: warning: unused variable ‘__resolution’ [-Wunused-variable]\n",
      "  109 |   const double __resolution = nest::Time::get_resolution().get_ms();  // do not remove, this is necessary for the resolution() function\n",
      "      |                ^~~~~~~~~~~~\n",
      "/tmp/terub_gpe/terub_gpe.cpp: In member function ‘virtual void terub_gpe::update(const nest::Time&, long int, long int)’:\n",
      "/tmp/terub_gpe/terub_gpe.cpp:367:16: warning: unused variable ‘__resolution’ [-Wunused-variable]\n",
      "  367 |   const double __resolution = nest::Time::get_resolution().get_ms();  // do not remove, this is necessary for the resolution() function\n",
      "      |                ^~~~~~~~~~~~\n",
      "[100%] Linking CXX shared module terub_gpe_module.so\n",
      "[100%] Built target terub_gpe_module_module\n",
      "[ 50%] Built target terub_gpe_module_lib\n",
      "[100%] Built target terub_gpe_module_module\n",
      "Install the project...\n",
      "-- Install configuration: \"\"\n",
      "-- Installing: /opt/nest/lib/nest/terub_gpe_module.so\n"
     ]
    }
   ],
   "source": [
    "generate_nest_target(input_path='models/terub_gpe.nestml',\n",
    "                    target_path='/tmp/terub_gpe',\n",
    "                     logging_level='ERROR',\n",
    "                     module_name='terub_gpe_module',\n",
    "                     codegen_opts={'nest_path': NEST_SIMULATOR_INSTALL_LOCATION})"
   ]
  },
  {
   "cell_type": "code",
   "execution_count": 5,
   "id": "fe1978f7",
   "metadata": {},
   "outputs": [],
   "source": [
    "nest.Install('terub_gpe_module')"
   ]
  },
  {
   "cell_type": "markdown",
   "id": "6feda1f9",
   "metadata": {},
   "source": [
    "## Pruebas sobre las neuronas"
   ]
  },
  {
   "cell_type": "markdown",
   "id": "576353ed",
   "metadata": {},
   "source": [
    "### STN"
   ]
  },
  {
   "cell_type": "code",
   "execution_count": 6,
   "id": "ee924473",
   "metadata": {},
   "outputs": [
    {
     "data": {
      "image/png": "[encoded data removed]",
      "text/plain": [
       "<Figure size 432x288 with 1 Axes>"
      ]
     },
     "metadata": {
      "needs_background": "light"
     },
     "output_type": "display_data"
    }
   ],
   "source": [
    "n = nest.Create('terub_gpe')\n",
    "\n",
    "spikegenerator = nest.Create('spike_generator')\n",
    "voltmeter = nest.Create('voltmeter')\n",
    "spikegenerator.set(spike_times=[10.0])\n",
    "\n",
    "nest.Connect(spikegenerator, n, syn_spec={'weight': 0})\n",
    "nest.Connect(voltmeter, n)\n",
    "\n",
    "nest.Simulate(100.0)\n",
    "\n",
    "nest.voltage_trace.from_device(voltmeter)\n",
    "plt.show()"
   ]
  },
  {
   "cell_type": "markdown",
   "id": "1fd42665",
   "metadata": {},
   "source": [
    "### GPe"
   ]
  },
  {
   "cell_type": "code",
   "execution_count": 7,
   "id": "67525bf5",
   "metadata": {},
   "outputs": [
    {
     "data": {
      "image/png": "[encoded data removed]",
      "text/plain": [
       "<Figure size 432x288 with 1 Axes>"
      ]
     },
     "metadata": {
      "needs_background": "light"
     },
     "output_type": "display_data"
    }
   ],
   "source": [
    "n = nest.Create(\"terub_stn\")\n",
    "\n",
    "spikegenerator = nest.Create('spike_generator')\n",
    "voltmeter = nest.Create('voltmeter')\n",
    "spikegenerator.set(spike_times=[10.0])\n",
    "\n",
    "nest.Connect(spikegenerator, n, syn_spec={'weight': 0})\n",
    "nest.Connect(voltmeter, n)\n",
    "\n",
    "nest.Simulate(100.0)\n",
    "\n",
    "nest.voltage_trace.from_device(voltmeter)\n",
    "plt.show()"
   ]
  }
 ],
 "metadata": {
  "kernelspec": {
   "display_name": "Python 3 (ipykernel)",
   "language": "python",
   "name": "python3"
  },
  "language_info": {
   "codemirror_mode": {
    "name": "ipython",
    "version": 3
   },
   "file_extension": ".py",
   "mimetype": "text/x-python",
   "name": "python",
   "nbconvert_exporter": "python",
   "pygments_lexer": "ipython3",
   "version": "3.8.10"
  }
 },
 "nbformat": 4,
 "nbformat_minor": 5
}
